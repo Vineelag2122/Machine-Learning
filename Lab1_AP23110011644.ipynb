{
  "cells": [
    {
      "cell_type": "markdown",
      "metadata": {
        "id": "view-in-github",
        "colab_type": "text"
      },
      "source": [
        "<a href=\"https://colab.research.google.com/github/Vineelag2122/Machine-Learning/blob/main/Lab1_AP23110011644.ipynb\" target=\"_parent\"><img src=\"https://colab.research.google.com/assets/colab-badge.svg\" alt=\"Open In Colab\"/></a>"
      ]
    },
    {
      "cell_type": "markdown",
      "id": "20dc80e4",
      "metadata": {
        "id": "20dc80e4"
      },
      "source": [
        "# 🧑‍💻 NumPy Complete Guided Project\n",
        "**Instructor / Student Colab Notebook** – covers *all* key concepts from `Numpy‑1` to `Numpy‑5`.\n",
        "\n",
        "*Generated: 08 Aug 2025*"
      ]
    },
    {
      "cell_type": "code",
      "source": [
        "from google.colab import drive\n",
        "drive.mount('/content/drive')"
      ],
      "metadata": {
        "colab": {
          "base_uri": "https://localhost:8080/"
        },
        "id": "1D94n3D20HsU",
        "outputId": "844b67b9-432f-400d-fd33-48ae1cf0c06f"
      },
      "id": "1D94n3D20HsU",
      "execution_count": null,
      "outputs": [
        {
          "output_type": "stream",
          "name": "stdout",
          "text": [
            "Drive already mounted at /content/drive; to attempt to forcibly remount, call drive.mount(\"/content/drive\", force_remount=True).\n"
          ]
        }
      ]
    },
    {
      "cell_type": "markdown",
      "id": "e8b8b6cf",
      "metadata": {
        "id": "e8b8b6cf"
      },
      "source": [
        "\n",
        "**Table of Contents**\n",
        "\n",
        "1. [Setup](#setup)  \n",
        "2. [Array Creation & Dtypes](#creation)  \n",
        "3. [Array Attributes & Inspection](#attributes)  \n",
        "4. [Indexing, Slicing, Fancy Indexing](#indexing)  \n",
        "5. [Reshaping, Transpose & Copies vs Views](#reshape)  \n",
        "6. [Joining, Splitting, Set & Sorting Ops](#join)  \n",
        "7. [Arithmetic Ops, Universal Functions](#arithmetic)  \n",
        "8. [Broadcasting (Rules + Examples)](#broadcast)  \n",
        "9. [Statistics & Aggregations](#stats)  \n",
        "10. [Random Numbers & Reproducibility](#random)  \n",
        "11. [Structured / Recarrays](#structured)  \n",
        "12. [Linear Algebra Essentials](#linalg)  \n",
        "13. [File I/O (`npy`, `npz`, `txt`)](#io)  \n",
        "14. [Datetime64 & Timedelta64](#datetime)  \n",
        "15. [Masked Arrays & NaNs](#mask)  \n",
        "16. [Mini‑Project — Fitness Data Analysis](#project)  \n",
        "17. [Conclusion & Next Steps](#conclusion)  \n"
      ]
    },
    {
      "cell_type": "markdown",
      "id": "9170f3ee",
      "metadata": {
        "id": "9170f3ee"
      },
      "source": [
        "## <a name='setup'></a>1️⃣ Setup"
      ]
    },
    {
      "cell_type": "code",
      "execution_count": null,
      "id": "4f54988f",
      "metadata": {
        "colab": {
          "base_uri": "https://localhost:8080/"
        },
        "id": "4f54988f",
        "outputId": "3fd3c692-b08f-40b1-e2e0-309e6f15a86d"
      },
      "outputs": [
        {
          "output_type": "stream",
          "name": "stdout",
          "text": [
            "NumPy version: 2.0.2\n"
          ]
        }
      ],
      "source": [
        "import numpy as np, math, os, pathlib, types, textwrap, random\n",
        "print('NumPy version:', np.__version__)"
      ]
    },
    {
      "cell_type": "markdown",
      "id": "c7f7b2c8",
      "metadata": {
        "id": "c7f7b2c8"
      },
      "source": [
        "## <a name='creation'></a>2️⃣ Array Creation & Dtypes"
      ]
    },
    {
      "cell_type": "markdown",
      "id": "47405152",
      "metadata": {
        "id": "47405152"
      },
      "source": [
        "Key functions: `np.array`, `np.arange`, `np.linspace`, `zeros`, `ones`, `full`, `eye`, `identity`, `diag`, `empty`"
      ]
    },
    {
      "cell_type": "code",
      "execution_count": null,
      "id": "801e99ad",
      "metadata": {
        "colab": {
          "base_uri": "https://localhost:8080/"
        },
        "id": "801e99ad",
        "outputId": "bc181c0e-ed56-4503-a85b-76c3d405e042"
      },
      "outputs": [
        {
          "output_type": "stream",
          "name": "stdout",
          "text": [
            "[1 2 3]\n",
            "[0.  0.2 0.4 0.6 0.8 1. ]\n",
            "[[7.5 7.5 7.5]\n",
            " [7.5 7.5 7.5]]\n",
            "dtypes: int32 float64\n"
          ]
        }
      ],
      "source": [
        "# EXAMPLE\n",
        "arr1 = np.array([1, 2, 3], dtype=np.int32)\n",
        "arr2 = np.linspace(0, 1, 6)\n",
        "arr3 = np.full((2,3), 7.5)\n",
        "print(arr1, arr2, arr3, sep=\"\\n\")\n",
        "print(\"dtypes:\", arr1.dtype, arr2.dtype)\n"
      ]
    },
    {
      "cell_type": "code",
      "execution_count": null,
      "id": "dc63d076",
      "metadata": {
        "colab": {
          "base_uri": "https://localhost:8080/"
        },
        "id": "dc63d076",
        "outputId": "f244fe97-6d15-4391-b08c-cd701e41f1fe"
      },
      "outputs": [
        {
          "output_type": "stream",
          "name": "stdout",
          "text": [
            "[[0 0 0 0 0 0 0 0 0 0]\n",
            " [0 0 0 0 0 0 0 0 0 0]\n",
            " [0 0 0 0 0 0 0 0 0 0]\n",
            " [0 0 0 0 0 0 0 0 0 0]\n",
            " [0 0 0 0 0 0 0 0 0 0]\n",
            " [0 0 0 0 0 0 0 0 0 0]\n",
            " [0 0 0 0 0 0 0 0 0 0]\n",
            " [0 0 0 0 0 0 0 0 0 0]\n",
            " [0 0 0 0 0 0 0 0 0 0]\n",
            " [0 0 0 0 0 0 0 0 0 0]]\n",
            "----------------------------------------\n",
            "[[1. 1. 1. 1. 1. 1. 1. 1. 1. 1.]\n",
            " [1. 1. 1. 1. 1. 1. 1. 1. 1. 1.]\n",
            " [1. 1. 1. 1. 1. 1. 1. 1. 1. 1.]\n",
            " [1. 1. 1. 1. 1. 1. 1. 1. 1. 1.]\n",
            " [1. 1. 1. 1. 1. 1. 1. 1. 1. 1.]\n",
            " [1. 1. 1. 1. 1. 1. 1. 1. 1. 1.]\n",
            " [1. 1. 1. 1. 1. 1. 1. 1. 1. 1.]\n",
            " [1. 1. 1. 1. 1. 1. 1. 1. 1. 1.]\n",
            " [1. 1. 1. 1. 1. 1. 1. 1. 1. 1.]\n",
            " [1. 1. 1. 1. 1. 1. 1. 1. 1. 1.]]\n",
            "----------------------------------------\n",
            "[[  1   2   3   4   5   6   7   8   9  10]\n",
            " [ 11  12  13  14  15  16  17  18  19  20]\n",
            " [ 21  22  23  24  25  26  27  28  29  30]\n",
            " [ 31  32  33  34  35  36  37  38  39  40]\n",
            " [ 41  42  43  44  45  46  47  48  49  50]\n",
            " [ 51  52  53  54  55  56  57  58  59  60]\n",
            " [ 61  62  63  64  65  66  67  68  69  70]\n",
            " [ 71  72  73  74  75  76  77  78  79  80]\n",
            " [ 81  82  83  84  85  86  87  88  89  90]\n",
            " [ 91  92  93  94  95  96  97  98  99 100]]\n",
            "----------------------------------------\n",
            "[[1 0 0 0 0 0]\n",
            " [0 1 0 0 0 0]\n",
            " [0 0 1 0 0 0]\n",
            " [0 0 0 1 0 0]\n",
            " [0 0 0 0 1 0]\n",
            " [0 0 0 0 0 1]]\n",
            "----------------------------------------\n",
            "[[1. 0. 0. 0. 0. 0.]\n",
            " [0. 1. 0. 0. 0. 0.]\n",
            " [0. 0. 1. 0. 0. 0.]\n",
            " [0. 0. 0. 1. 0. 0.]\n",
            " [0. 0. 0. 0. 1. 0.]\n",
            " [0. 0. 0. 0. 0. 1.]]\n",
            "----------------------------------------\n",
            "[[1 0 0 0 0 0]\n",
            " [0 2 0 0 0 0]\n",
            " [0 0 3 0 0 0]\n",
            " [0 0 0 4 0 0]\n",
            " [0 0 0 0 5 0]\n",
            " [0 0 0 0 0 6]]\n",
            "----------------------------------------\n",
            "[[1.62539912e-313 0.00000000e+000 1.33397724e-322]\n",
            " [            nan 5.73570307e+169 8.79853449e+199]\n",
            " [1.29582820e+098 3.32425647e-318 0.00000000e+000]]\n"
          ]
        }
      ],
      "source": [
        "print(np.zeros((10,10),dtype=np.int64))\n",
        "print(\"----------------------------------------\")\n",
        "print(np.ones((10,10)))\n",
        "print(\"----------------------------------------\")\n",
        "print(np.arange(1,101).reshape(10,10))\n",
        "print(\"----------------------------------------\")\n",
        "print(np.eye(6,dtype=np.int64))\n",
        "print(\"----------------------------------------\")\n",
        "print(np.identity(6))\n",
        "print(\"----------------------------------------\")\n",
        "print(np.diag([1,2,3,4,5,6]))\n",
        "print(\"----------------------------------------\")\n",
        "print(np.empty((3,3)))"
      ]
    },
    {
      "cell_type": "code",
      "execution_count": null,
      "metadata": {
        "colab": {
          "base_uri": "https://localhost:8080/"
        },
        "outputId": "2d6d0494-e826-4216-9382-3cd097a08739",
        "id": "M52rvGvd5r7K"
      },
      "outputs": [
        {
          "output_type": "stream",
          "name": "stdout",
          "text": [
            "[[0 1 0 1 0 1 0 1 0 1]\n",
            " [1 0 1 0 1 0 1 0 1 0]\n",
            " [0 1 0 1 0 1 0 1 0 1]\n",
            " [1 0 1 0 1 0 1 0 1 0]\n",
            " [0 1 0 1 0 1 0 1 0 1]\n",
            " [1 0 1 0 1 0 1 0 1 0]\n",
            " [0 1 0 1 0 1 0 1 0 1]\n",
            " [1 0 1 0 1 0 1 0 1 0]\n",
            " [0 1 0 1 0 1 0 1 0 1]\n",
            " [1 0 1 0 1 0 1 0 1 0]]\n"
          ]
        }
      ],
      "source": [
        "# 🖊️ TODO: create a 10×10 chessboard pattern using zeros & ones\n",
        "chessboard = np.zeros((10, 10), dtype=np.int64)\n",
        "chessboard[1::2, ::2] = 1\n",
        "chessboard[::2, 1::2] = 1\n",
        "print(chessboard)"
      ],
      "id": "M52rvGvd5r7K"
    },
    {
      "cell_type": "markdown",
      "id": "925be762",
      "metadata": {
        "id": "925be762"
      },
      "source": [
        "## <a name='attributes'></a>3️⃣ Array Attributes & Inspection"
      ]
    },
    {
      "cell_type": "markdown",
      "id": "f103bb36",
      "metadata": {
        "id": "f103bb36"
      },
      "source": [
        "`shape`, `ndim`, `size`, `dtype`, `itemsize`, `nbytes`"
      ]
    },
    {
      "cell_type": "code",
      "execution_count": null,
      "id": "ad3eeda1",
      "metadata": {
        "colab": {
          "base_uri": "https://localhost:8080/"
        },
        "id": "ad3eeda1",
        "outputId": "b9388deb-8cac-42e3-b85f-077bee7406c1"
      },
      "outputs": [
        {
          "output_type": "stream",
          "name": "stdout",
          "text": [
            "[[ 0  1  2  3]\n",
            " [ 4  5  6  7]\n",
            " [ 8  9 10 11]]\n",
            "-------------------------------------------\n",
            "shape (3, 4) \n",
            " ndim 2 \n",
            " size 12 \n",
            " dtype int64 \n",
            " itemsize 8 \n",
            " total bytes 96\n"
          ]
        }
      ],
      "source": [
        "M = np.arange(12).reshape(3,4)\n",
        "print(M)\n",
        "print('-------------------------------------------')\n",
        "print('shape', M.shape,'\\n', 'ndim', M.ndim,'\\n', 'size', M.size,'\\n','dtype', M.dtype ,'\\n', 'itemsize', M.itemsize,'\\n' ,'total bytes', M.nbytes)\n"
      ]
    },
    {
      "cell_type": "code",
      "execution_count": null,
      "id": "5875fefe",
      "metadata": {
        "colab": {
          "base_uri": "https://localhost:8080/"
        },
        "id": "5875fefe",
        "outputId": "b75b32d2-19f4-4028-910d-25116bcafec0"
      },
      "outputs": [
        {
          "output_type": "stream",
          "name": "stdout",
          "text": [
            "[[      1       2       3 ...     998     999    1000]\n",
            " [   1001    1002    1003 ...    1998    1999    2000]\n",
            " [   2001    2002    2003 ...    2998    2999    3000]\n",
            " ...\n",
            " [ 997001  997002  997003 ...  997998  997999  998000]\n",
            " [ 998001  998002  998003 ...  998998  998999  999000]\n",
            " [ 999001  999002  999003 ...  999998  999999 1000000]]\n",
            "-------------------------------------------\n",
            "8\n",
            "-------------------------------------------\n",
            "8000000\n"
          ]
        }
      ],
      "source": [
        "# 🖊️ TODO: check memory footprint of a 1000×1000 float64 array\n",
        "m=np.arange(1,1000001).reshape(1000,1000)\n",
        "print(m)\n",
        "print('-------------------------------------------')\n",
        "print(m.itemsize)\n",
        "print('-------------------------------------------')\n",
        "print(m.nbytes)"
      ]
    },
    {
      "cell_type": "markdown",
      "id": "bd895660",
      "metadata": {
        "id": "bd895660"
      },
      "source": [
        "## <a name='indexing'></a>4️⃣ Indexing, Slicing & Fancy Indexing"
      ]
    },
    {
      "cell_type": "code",
      "execution_count": null,
      "id": "5dc7d4c1",
      "metadata": {
        "colab": {
          "base_uri": "https://localhost:8080/"
        },
        "id": "5dc7d4c1",
        "outputId": "4a40b7a6-39da-44e6-decc-a8dcd641411e"
      },
      "outputs": [
        {
          "output_type": "stream",
          "name": "stdout",
          "text": [
            "[[ 1  2  3  4  5]\n",
            " [ 6  7  8  9 10]\n",
            " [11 12 13 14 15]\n",
            " [16 17 18 19 20]\n",
            " [21 22 23 24 25]]\n",
            "-------------------------------------------\n",
            "[ 1  6 11 16 21]\n",
            "-------------------------------------------\n",
            "[[ 1  3  5]\n",
            " [11 13 15]\n",
            " [21 23 25]]\n",
            "-------------------------------------------\n",
            "multiples of 3: [ 3  6  9 12 15 18 21 24]\n"
          ]
        }
      ],
      "source": [
        "a = np.arange(1,26).reshape(5,5)\n",
        "print(a)\n",
        "print('-------------------------------------------')\n",
        "print(a[:, 0])     # first column\n",
        "print('-------------------------------------------')\n",
        "print(a[::2, ::2]) # every 2nd row/col\n",
        "print('-------------------------------------------')\n",
        "mask = (a % 3 == 0)\n",
        "print('multiples of 3:', a[mask])\n"
      ]
    },
    {
      "cell_type": "code",
      "execution_count": null,
      "id": "9c4bd5f4",
      "metadata": {
        "colab": {
          "base_uri": "https://localhost:8080/"
        },
        "id": "9c4bd5f4",
        "outputId": "5fc74a77-44ed-46d0-9389-699153e80f95"
      },
      "outputs": [
        {
          "output_type": "stream",
          "name": "stdout",
          "text": [
            "Original array 'a':\n",
            "[[ 1  2  3  4  5]\n",
            " [ 6  7  8  9 10]\n",
            " [11 12 13 14 15]\n",
            " [16 17 18 19 20]\n",
            " [21 22 23 24 25]]\n",
            "\n",
            "Array 'a' with first and last rows swapped:\n",
            "[[21 22 23 24 25]\n",
            " [ 6  7  8  9 10]\n",
            " [11 12 13 14 15]\n",
            " [16 17 18 19 20]\n",
            " [ 1  2  3  4  5]]\n"
          ]
        }
      ],
      "source": [
        "# 🖊️ TODO: use fancy indexing to swap first and last rows of a\n",
        "\n",
        "a = np.arange(1,26).reshape(5,5)\n",
        "num_rows = a.shape[0]\n",
        "indices = np.arange(num_rows)\n",
        "indices[0], indices[num_rows - 1] = indices[num_rows - 1], indices[0]\n",
        "\n",
        "a_swapped = a[indices]\n",
        "\n",
        "print(\"Original array 'a':\")\n",
        "print(a)\n",
        "print(\"\\nArray 'a' with first and last rows swapped:\")\n",
        "print(a_swapped)"
      ]
    },
    {
      "cell_type": "markdown",
      "id": "8f4de1d5",
      "metadata": {
        "id": "8f4de1d5"
      },
      "source": [
        "## <a name='reshape'></a>5️⃣ Reshaping, Transpose & Copies vs Views"
      ]
    },
    {
      "cell_type": "code",
      "execution_count": null,
      "id": "053b4ff4",
      "metadata": {
        "id": "053b4ff4",
        "colab": {
          "base_uri": "https://localhost:8080/"
        },
        "outputId": "3776da6e-ee2a-420e-e96d-95cf1aa6b731"
      },
      "outputs": [
        {
          "output_type": "stream",
          "name": "stdout",
          "text": [
            "b is modified: [99  1  2  3  4  5  6  7]\n",
            "b unchanged with copy: [99  1  2  3  4  5  6  7]\n"
          ]
        }
      ],
      "source": [
        "b = np.arange(8)\n",
        "B = b.reshape(2,4)\n",
        "B[0,0] = 99\n",
        "print('b is modified:', b)\n",
        "C = b.reshape(2,4).copy()\n",
        "C[0,0] = -1\n",
        "print('b unchanged with copy:', b)\n"
      ]
    },
    {
      "cell_type": "code",
      "execution_count": 34,
      "id": "a3e599bd",
      "metadata": {
        "id": "a3e599bd",
        "colab": {
          "base_uri": "https://localhost:8080/"
        },
        "outputId": "4d32ce36-5b78-4466-be0d-5cccf08ec42d"
      },
      "outputs": [
        {
          "output_type": "stream",
          "name": "stdout",
          "text": [
            "Original array:\n",
            " [[[ 1  2  3]\n",
            "  [ 4  5  6]]\n",
            "\n",
            " [[ 7  8  9]\n",
            "  [10 11 12]]]\n",
            "Shape: (2, 2, 3)\n",
            "\n",
            "Flattened with ravel():\n",
            " [ 1  2  3  4  5  6  7  8  9 10 11 12]\n",
            "\n",
            "Flattened with flatten():\n",
            " [ 1  2  3  4  5  6  7  8  9 10 11 12]\n",
            "\n",
            "After modifying ravel() result:\n",
            "Original array:\n",
            " [[[999   2   3]\n",
            "  [  4   5   6]]\n",
            "\n",
            " [[  7   8   9]\n",
            "  [ 10  11  12]]]\n",
            "ravel() array:\n",
            " [999   2   3   4   5   6   7   8   9  10  11  12]\n",
            "\n",
            "After modifying flatten() result:\n",
            "Original array:\n",
            " [[[999   2   3]\n",
            "  [  4   5   6]]\n",
            "\n",
            " [[  7   8   9]\n",
            "  [ 10  11  12]]]\n",
            "flatten() array:\n",
            " [  1 555   3   4   5   6   7   8   9  10  11  12]\n"
          ]
        }
      ],
      "source": [
        "# 🖊️ TODO: Flatten a 3‑D array into 1‑D using both `ravel` and `flatten`; observe copy vs view.\n",
        "import numpy as np\n",
        "\n",
        "# Create a 3-D array (2x2x3)\n",
        "arr = np.array([\n",
        "    [[1, 2, 3], [4, 5, 6]],\n",
        "    [[7, 8, 9], [10, 11, 12]]\n",
        "])\n",
        "\n",
        "print(\"Original array:\\n\", arr)\n",
        "print(\"Shape:\", arr.shape)\n",
        "\n",
        "# Flatten using ravel() -> returns a view if possible\n",
        "ravel_arr = arr.ravel()\n",
        "print(\"\\nFlattened with ravel():\\n\", ravel_arr)\n",
        "\n",
        "# Flatten using flatten() -> always returns a copy\n",
        "flatten_arr = arr.flatten()\n",
        "print(\"\\nFlattened with flatten():\\n\", flatten_arr)\n",
        "\n",
        "# Modify ravel result\n",
        "ravel_arr[0] = 999\n",
        "print(\"\\nAfter modifying ravel() result:\")\n",
        "print(\"Original array:\\n\", arr)  # Notice change reflected in original\n",
        "print(\"ravel() array:\\n\", ravel_arr)\n",
        "\n",
        "# Modify flatten result\n",
        "flatten_arr[1] = 555\n",
        "print(\"\\nAfter modifying flatten() result:\")\n",
        "print(\"Original array:\\n\", arr)  # No change here\n",
        "print(\"flatten() array:\\n\", flatten_arr)\n"
      ]
    },
    {
      "cell_type": "markdown",
      "id": "2390c4ae",
      "metadata": {
        "id": "2390c4ae"
      },
      "source": [
        "## <a name='join'></a>6️⃣ Joining, Splitting, Set & Sorting Ops"
      ]
    },
    {
      "cell_type": "code",
      "execution_count": 35,
      "id": "a53f640a",
      "metadata": {
        "id": "a53f640a",
        "colab": {
          "base_uri": "https://localhost:8080/"
        },
        "outputId": "3ecf599e-94ea-4677-9e72-05115975c0eb"
      },
      "outputs": [
        {
          "output_type": "stream",
          "name": "stdout",
          "text": [
            "union [1 2 3 4 5 6]\n",
            "intersect [1 2]\n",
            "sorted descending [6 5 4 3 2 1]\n"
          ]
        }
      ],
      "source": [
        "x = np.array([1,3,5]); y = np.array([2,4,6])\n",
        "xy = np.concatenate([x,y])\n",
        "print('union', np.union1d(x,y))\n",
        "print('intersect', np.intersect1d(xy,[1,2,10]))\n",
        "print('sorted descending', np.sort(xy)[::-1])\n"
      ]
    },
    {
      "cell_type": "code",
      "execution_count": 36,
      "id": "4231e729",
      "metadata": {
        "id": "4231e729",
        "colab": {
          "base_uri": "https://localhost:8080/"
        },
        "outputId": "ee5b4c35-d6e2-4687-ee61-07ae321ddb18"
      },
      "outputs": [
        {
          "output_type": "stream",
          "name": "stdout",
          "text": [
            "Original concatenated array: [1 3 5 2 4 6]\n",
            "Split array: [array([1, 3, 5]), array([2, 4, 6])]\n"
          ]
        }
      ],
      "source": [
        "# 🖊️ TODO: split `xy` back into two equal halves using `np.array_split`\n",
        "x = np.array([1,3,5]); y = np.array([2,4,6])\n",
        "xy = np.concatenate([x,y])\n",
        "\n",
        "split_xy = np.array_split(xy, 2)\n",
        "print(\"Original concatenated array:\", xy)\n",
        "print(\"Split array:\", split_xy)"
      ]
    },
    {
      "cell_type": "markdown",
      "id": "e6ebeb68",
      "metadata": {
        "id": "e6ebeb68"
      },
      "source": [
        "## <a name='arithmetic'></a>7️⃣ Arithmetic Ops & Universal Functions"
      ]
    },
    {
      "cell_type": "code",
      "execution_count": 37,
      "id": "04a6eda9",
      "metadata": {
        "id": "04a6eda9",
        "colab": {
          "base_uri": "https://localhost:8080/"
        },
        "outputId": "ab453cb3-3b41-4c44-94e4-5b590e6454c7"
      },
      "outputs": [
        {
          "output_type": "stream",
          "name": "stdout",
          "text": [
            "exp [ 1.          2.71828183  7.3890561  20.08553692 54.59815003]\n",
            "sin [ 0.          0.84147098  0.90929743  0.14112001 -0.7568025 ]\n",
            "vectorised addition [10 11 12 13 14]\n"
          ]
        }
      ],
      "source": [
        "v = np.arange(5)\n",
        "print('exp', np.exp(v))\n",
        "print('sin', np.sin(v))\n",
        "print('vectorised addition', v + 10)\n"
      ]
    },
    {
      "cell_type": "code",
      "execution_count": 38,
      "id": "c011f422",
      "metadata": {
        "id": "c011f422",
        "colab": {
          "base_uri": "https://localhost:8080/"
        },
        "outputId": "1acac5fe-a882-4179-c44e-17d72c63c029"
      },
      "outputs": [
        {
          "output_type": "stream",
          "name": "stdout",
          "text": [
            "Degrees: [ 0 30 45 60 90]\n",
            "Radians: [0.         0.52359878 0.78539816 1.04719755 1.57079633]\n",
            "Sin values: [0.         0.5        0.70710678 0.8660254  1.        ]\n"
          ]
        }
      ],
      "source": [
        "# 🖊️ TODO: given degrees [0,30,45,60,90], compute radians and sin values.\n",
        "degrees = np.array([0, 30, 45, 60, 90])\n",
        "radians = np.deg2rad(degrees)\n",
        "sin_values = np.sin(radians)\n",
        "\n",
        "print(\"Degrees:\", degrees)\n",
        "print(\"Radians:\", radians)\n",
        "print(\"Sin values:\", sin_values)"
      ]
    },
    {
      "cell_type": "markdown",
      "id": "7c9a5d70",
      "metadata": {
        "id": "7c9a5d70"
      },
      "source": [
        "## <a name='broadcast'></a>8️⃣ Broadcasting Rules"
      ]
    },
    {
      "cell_type": "markdown",
      "id": "aba2764d",
      "metadata": {
        "id": "aba2764d"
      },
      "source": [
        "Rules: compare dimensions from right → left; stretch size 1 dims; mismatch error."
      ]
    },
    {
      "cell_type": "code",
      "execution_count": 39,
      "id": "6313899c",
      "metadata": {
        "id": "6313899c",
        "colab": {
          "base_uri": "https://localhost:8080/"
        },
        "outputId": "b200b6c3-da26-4e01-dde2-2292af854e74"
      },
      "outputs": [
        {
          "output_type": "stream",
          "name": "stdout",
          "text": [
            "[[0 1 2 3 4]\n",
            " [1 2 3 4 5]\n",
            " [2 3 4 5 6]]\n"
          ]
        }
      ],
      "source": [
        "row = np.arange(5)\n",
        "col = np.arange(3).reshape(3,1)\n",
        "matrix = row + col  # broadcast to 3×5\n",
        "print(matrix)\n"
      ]
    },
    {
      "cell_type": "code",
      "execution_count": 40,
      "id": "de718119",
      "metadata": {
        "id": "de718119",
        "colab": {
          "base_uri": "https://localhost:8080/"
        },
        "outputId": "2e527928-ab20-4ee9-9b45-b49e6853885c"
      },
      "outputs": [
        {
          "output_type": "stream",
          "name": "stdout",
          "text": [
            "[[  1   2   3   4   5   6   7   8   9  10]\n",
            " [  2   4   6   8  10  12  14  16  18  20]\n",
            " [  3   6   9  12  15  18  21  24  27  30]\n",
            " [  4   8  12  16  20  24  28  32  36  40]\n",
            " [  5  10  15  20  25  30  35  40  45  50]\n",
            " [  6  12  18  24  30  36  42  48  54  60]\n",
            " [  7  14  21  28  35  42  49  56  63  70]\n",
            " [  8  16  24  32  40  48  56  64  72  80]\n",
            " [  9  18  27  36  45  54  63  72  81  90]\n",
            " [ 10  20  30  40  50  60  70  80  90 100]]\n"
          ]
        }
      ],
      "source": [
        "# 🖊️ TODO: use broadcasting to create a 10×10 multiplication table.\n",
        "a = np.arange(1, 11).reshape(10, 1)\n",
        "b = np.arange(1, 11)\n",
        "multiplication_table = a * b\n",
        "print(multiplication_table)"
      ]
    },
    {
      "cell_type": "markdown",
      "id": "38a618c8",
      "metadata": {
        "id": "38a618c8"
      },
      "source": [
        "## <a name='stats'></a>9️⃣ Statistics & Aggregations"
      ]
    },
    {
      "cell_type": "code",
      "execution_count": 49,
      "id": "af9ac70d",
      "metadata": {
        "id": "af9ac70d",
        "colab": {
          "base_uri": "https://localhost:8080/"
        },
        "outputId": "002b8119-4601-4a01-af7d-cbf809d75813"
      },
      "outputs": [
        {
          "output_type": "stream",
          "name": "stdout",
          "text": [
            "data\n",
            " [[85 64 51 27]\n",
            " [31  5  8  2]\n",
            " [18 81 65 91]\n",
            " [50 61 97 73]\n",
            " [63 54 56 93]]\n",
            "row sums [227  46 255 281 266]\n",
            "col means [49.4 53.  55.4 57.2]\n"
          ]
        }
      ],
      "source": [
        "data = np.random.default_rng(0).integers(1, 100, size=(5,4))\n",
        "print('data\\n', data)\n",
        "print('row sums', data.sum(axis=1))\n",
        "print('col means', data.mean(axis=0))\n"
      ]
    },
    {
      "cell_type": "code",
      "execution_count": 51,
      "id": "63adf5be",
      "metadata": {
        "id": "63adf5be",
        "colab": {
          "base_uri": "https://localhost:8080/"
        },
        "outputId": "1482cc76-4fe2-4dac-e3a3-e0a1f7a51dcb"
      },
      "outputs": [
        {
          "output_type": "stream",
          "name": "stdout",
          "text": [
            "25th, 50th, and 75th percentiles of flattened data: [30.  58.5 75. ]\n"
          ]
        }
      ],
      "source": [
        "# 🖊️ TODO: compute `np.percentile` (25th, 50th, 75th) of flattened `data`.\n",
        "percentiles = np.percentile(data.flatten(), [25, 50, 75])\n",
        "print(\"25th, 50th, and 75th percentiles of flattened data:\", percentiles)"
      ]
    },
    {
      "cell_type": "markdown",
      "id": "8f3c00d7",
      "metadata": {
        "id": "8f3c00d7"
      },
      "source": [
        "## <a name='random'></a>🔟 Random Numbers & Reproducibility"
      ]
    },
    {
      "cell_type": "code",
      "execution_count": null,
      "id": "98016975",
      "metadata": {
        "id": "98016975",
        "colab": {
          "base_uri": "https://localhost:8080/"
        },
        "outputId": "527abcc9-0817-4b10-e189-ba414bee864e"
      },
      "outputs": [
        {
          "output_type": "stream",
          "name": "stdout",
          "text": [
            "[0.77395605 0.43887844 0.85859792 0.69736803 0.09417735] [31 49 39 40 38]\n"
          ]
        }
      ],
      "source": [
        "rng = np.random.default_rng(42)\n",
        "rand_floats = rng.random(5)\n",
        "rand_ints = rng.integers(low=10, high=50, size=5)\n",
        "print(rand_floats, rand_ints)\n",
        "rng2 = np.random.default_rng(42)\n",
        "assert np.allclose(rand_floats, rng2.random(5))\n"
      ]
    },
    {
      "cell_type": "code",
      "execution_count": 52,
      "id": "35dbadba",
      "metadata": {
        "id": "35dbadba",
        "colab": {
          "base_uri": "https://localhost:8080/"
        },
        "outputId": "872de51a-c80c-4017-e3b7-44225f27666e"
      },
      "outputs": [
        {
          "output_type": "stream",
          "name": "stdout",
          "text": [
            "Number of rolls: 100\n",
            "Number of 6s: 19\n",
            "Estimated proportion of 6s: 0.1900\n"
          ]
        }
      ],
      "source": [
        "# 🖊️ TODO: simulate rolling a fair six‑sided die 100 times; estimate proportion of 6s.\n",
        "rng = np.random.default_rng() # Using a new random number generator instance\n",
        "num_rolls = 100\n",
        "rolls = rng.integers(1, 7, size=num_rolls) # Simulate 100 rolls (integers from 1 to 6 inclusive)\n",
        "\n",
        "# Count the number of 6s\n",
        "num_sixes = np.sum(rolls == 6)\n",
        "\n",
        "# Estimate the proportion of 6s\n",
        "proportion_sixes = num_sixes / num_rolls\n",
        "\n",
        "print(f\"Number of rolls: {num_rolls}\")\n",
        "print(f\"Number of 6s: {num_sixes}\")\n",
        "print(f\"Estimated proportion of 6s: {proportion_sixes:.4f}\")"
      ]
    },
    {
      "cell_type": "markdown",
      "id": "6cdb04b2",
      "metadata": {
        "id": "6cdb04b2"
      },
      "source": [
        "## <a name='structured'></a>1️⃣1️⃣ Structured / Record Arrays"
      ]
    },
    {
      "cell_type": "code",
      "execution_count": 53,
      "id": "d8f64e42",
      "metadata": {
        "id": "d8f64e42",
        "colab": {
          "base_uri": "https://localhost:8080/"
        },
        "outputId": "005cbd13-308b-4372-96ab-28a6929fa7fc"
      },
      "outputs": [
        {
          "output_type": "stream",
          "name": "stdout",
          "text": [
            "['Alice' 'Bob'] 27.5\n"
          ]
        }
      ],
      "source": [
        "people = np.array([('Alice', 25, 55.0), ('Bob', 30, 85.5)],\n",
        "                   dtype=[('name','U10'), ('age','i4'), ('weight','f4')])\n",
        "print(people['name'], people['age'].mean())\n"
      ]
    },
    {
      "cell_type": "code",
      "execution_count": 55,
      "id": "7a65fe1d",
      "metadata": {
        "id": "7a65fe1d",
        "colab": {
          "base_uri": "https://localhost:8080/",
          "height": 69
        },
        "outputId": "07f58bb2-5ec6-40c7-a52a-28ac9d3fa733"
      },
      "outputs": [
        {
          "output_type": "stream",
          "name": "stdout",
          "text": [
            "Structured array with 'height' field:\n"
          ]
        },
        {
          "output_type": "display_data",
          "data": {
            "text/plain": [
              "array([('Alice', 25, 55. , 165.5), ('Bob', 30, 85.5, 180. )],\n",
              "      dtype=[('name', '<U10'), ('age', '<i4'), ('weight', '<f4'), ('height', '<f4')])"
            ]
          },
          "metadata": {}
        }
      ],
      "source": [
        "# 🖊️ TODO: add a new field 'height' to the structured array using `np.lib.recfunctions.append_fields` (hint: pip install?).\n",
        "\n",
        "from numpy.lib.recfunctions import append_fields\n",
        "\n",
        "# Sample height data (replace with actual data)\n",
        "height_data = np.array([165.5, 180.0], dtype='f4') # Example heights for Alice and Bob\n",
        "\n",
        "# Append the 'height' field\n",
        "people_with_height = append_fields(people, 'height', height_data, usemask=False)\n",
        "\n",
        "print(\"Structured array with 'height' field:\")\n",
        "display(people_with_height)"
      ]
    },
    {
      "cell_type": "markdown",
      "id": "df5b617b",
      "metadata": {
        "id": "df5b617b"
      },
      "source": [
        "## <a name='linalg'></a>1️⃣2️⃣ Linear Algebra Essentials"
      ]
    },
    {
      "cell_type": "code",
      "execution_count": 56,
      "id": "3f7fb475",
      "metadata": {
        "id": "3f7fb475",
        "colab": {
          "base_uri": "https://localhost:8080/"
        },
        "outputId": "7ffd2b36-2183-491e-858c-f4945a53772d"
      },
      "outputs": [
        {
          "output_type": "stream",
          "name": "stdout",
          "text": [
            "A·x ≈ b? True\n"
          ]
        }
      ],
      "source": [
        "A = np.random.random((3,3))\n",
        "b = np.random.random(3)\n",
        "x = np.linalg.solve(A, b)\n",
        "print('A·x ≈ b?', np.allclose(A.dot(x), b))\n"
      ]
    },
    {
      "cell_type": "code",
      "execution_count": null,
      "id": "a8fb02d7",
      "metadata": {
        "id": "a8fb02d7",
        "colab": {
          "base_uri": "https://localhost:8080/"
        },
        "outputId": "40b9361a-3b07-4f80-cabf-3a11a8891fe4"
      },
      "outputs": [
        {
          "output_type": "stream",
          "name": "stdout",
          "text": [
            "Eigenvalues of A:\n",
            "[ 1.96546675+0.j         -0.1851633 +0.22605411j -0.1851633 -0.22605411j]\n"
          ]
        }
      ],
      "source": [
        "# 🖊️ TODO: compute eigenvalues of `A` using `np.linalg.eig`.\n",
        "eigenvalues, eigenvectors = np.linalg.eig(A)\n",
        "\n",
        "print(\"Eigenvalues of A:\")\n",
        "print(eigenvalues)\n",
        "# You can also print eigenvectors if needed:\n",
        "# print(\"\\nEigenvectors of A:\")\n",
        "# print(eigenvectors)"
      ]
    },
    {
      "cell_type": "markdown",
      "id": "e8fd753c",
      "metadata": {
        "id": "e8fd753c"
      },
      "source": [
        "## <a name='io'></a>1️⃣3️⃣ File I/O (`npy`, `npz`, `txt`)"
      ]
    },
    {
      "cell_type": "code",
      "execution_count": null,
      "id": "bd6dc026",
      "metadata": {
        "id": "bd6dc026",
        "colab": {
          "base_uri": "https://localhost:8080/"
        },
        "outputId": "b30c2acd-60fd-4544-a6fc-4ca4369af434"
      },
      "outputs": [
        {
          "output_type": "stream",
          "name": "stdout",
          "text": [
            "loaded equals A? True\n"
          ]
        }
      ],
      "source": [
        "np.save('array.npy', A)\n",
        "loaded = np.load('array.npy')\n",
        "print('loaded equals A?', np.allclose(loaded, A))\n",
        "np.savez('multi_arrays.npz', A=A, b=b)\n"
      ]
    },
    {
      "cell_type": "code",
      "execution_count": null,
      "id": "d9552893",
      "metadata": {
        "id": "d9552893",
        "colab": {
          "base_uri": "https://localhost:8080/"
        },
        "outputId": "9e468c1a-e17b-4bcc-ee60-f24ee97588bb"
      },
      "outputs": [
        {
          "output_type": "stream",
          "name": "stdout",
          "text": [
            "Data saved to data.csv\n",
            "\n",
            "Data loaded from data.csv:\n",
            "[[85. 64. 51. 27.]\n",
            " [31.  5.  8.  2.]\n",
            " [18. 81. 65. 91.]\n",
            " [50. 61. 97. 73.]\n",
            " [63. 54. 56. 93.]]\n",
            "\n",
            "Loaded data equals original data? True\n"
          ]
        }
      ],
      "source": [
        "# 🖊️ TODO: Use `np.savetxt` to write `data` (from stats section) to CSV then reload with `np.loadtxt`.\n",
        "file_path = 'data.csv'\n",
        "np.savetxt(file_path, data, delimiter=',')\n",
        "print(f\"Data saved to {file_path}\")\n",
        "\n",
        "# Load data from the CSV file\n",
        "loaded_data = np.loadtxt(file_path, delimiter=',')\n",
        "print(f\"\\nData loaded from {file_path}:\")\n",
        "print(loaded_data)\n",
        "\n",
        "# Verify that the loaded data is the same as the original data\n",
        "print(\"\\nLoaded data equals original data?\", np.allclose(loaded_data, data))"
      ]
    },
    {
      "cell_type": "markdown",
      "id": "f24f33e3",
      "metadata": {
        "id": "f24f33e3"
      },
      "source": [
        "## <a name='datetime'></a>1️⃣4️⃣ Datetime64 & Timedelta64"
      ]
    },
    {
      "cell_type": "code",
      "execution_count": null,
      "id": "3ce7b543",
      "metadata": {
        "id": "3ce7b543",
        "colab": {
          "base_uri": "https://localhost:8080/"
        },
        "outputId": "488b727f-4ed4-4fa9-b75c-5919288aeabd"
      },
      "outputs": [
        {
          "output_type": "stream",
          "name": "stdout",
          "text": [
            "['2023-01-01' '2023-01-02' '2023-01-03' '2023-01-04' '2023-01-05'] 1 days\n"
          ]
        }
      ],
      "source": [
        "dates = np.arange('2023-01', '2023-04', dtype='datetime64[D]')\n",
        "delta = dates[1:] - dates[:-1]\n",
        "print(dates[:5], delta[0])\n"
      ]
    },
    {
      "cell_type": "code",
      "execution_count": null,
      "id": "e493d6f8",
      "metadata": {
        "id": "e493d6f8",
        "colab": {
          "base_uri": "https://localhost:8080/"
        },
        "outputId": "f3e12813-5236-4800-8ffd-67e27a5f7997"
      },
      "outputs": [
        {
          "output_type": "stream",
          "name": "stdout",
          "text": [
            "The 'dates' array contains 0 Mondays.\n"
          ]
        }
      ],
      "source": [
        "# 🖊️ TODO: find how many Mondays appear in `dates` array.\n",
        "# The dates array was created in the previous cell:\n",
        "# dates = np.arange('2023-01', '2023-04', dtype='datetime64[D]')\n",
        "\n",
        "# Convert to datetime objects to easily get the day of the week\n",
        "# Alternatively, you can use the .astype(int) method to get day index\n",
        "# dayofweek: Monday=0, Sunday=6\n",
        "mondays_count = np.sum(dates.astype('datetime64[W]').astype(int) == 0)\n",
        "\n",
        "print(f\"The 'dates' array contains {mondays_count} Mondays.\")"
      ]
    },
    {
      "cell_type": "markdown",
      "id": "636116b9",
      "metadata": {
        "id": "636116b9"
      },
      "source": [
        "## <a name='mask'></a>1️⃣5️⃣ Masked Arrays & NaNs"
      ]
    },
    {
      "cell_type": "code",
      "execution_count": 57,
      "id": "ec30b3ee",
      "metadata": {
        "id": "ec30b3ee",
        "colab": {
          "base_uri": "https://localhost:8080/"
        },
        "outputId": "ebd10cbf-0c44-4f7d-ec2f-62f7d755ab72"
      },
      "outputs": [
        {
          "output_type": "stream",
          "name": "stdout",
          "text": [
            "2.3333333333333335\n"
          ]
        }
      ],
      "source": [
        "arr = np.array([1, 2, np.nan, 4, np.nan])\n",
        "masked = np.ma.masked_invalid(arr)\n",
        "print(masked.mean())\n"
      ]
    },
    {
      "cell_type": "code",
      "metadata": {
        "id": "b7fc553a",
        "colab": {
          "base_uri": "https://localhost:8080/"
        },
        "outputId": "bee13fe1-f927-4555-a3fe-ff3026c6556f"
      },
      "source": [
        "# 🖊️ TODO: replace NaNs with column means in a 2‑D array containing NaNs.\n",
        "\n",
        "# 1. Create a sample array with NaNs\n",
        "data_with_nan = np.array([[1, 2, np.nan, 4],\n",
        "                          [5, np.nan, 7, 8],\n",
        "                          [9, 10, 11, np.nan],\n",
        "                          [13, 14, 15, 16]])\n",
        "\n",
        "print(\"Original array with NaNs:\")\n",
        "print(data_with_nan)"
      ],
      "id": "b7fc553a",
      "execution_count": 58,
      "outputs": [
        {
          "output_type": "stream",
          "name": "stdout",
          "text": [
            "Original array with NaNs:\n",
            "[[ 1.  2. nan  4.]\n",
            " [ 5. nan  7.  8.]\n",
            " [ 9. 10. 11. nan]\n",
            " [13. 14. 15. 16.]]\n"
          ]
        }
      ]
    },
    {
      "cell_type": "code",
      "metadata": {
        "id": "e251dc01",
        "colab": {
          "base_uri": "https://localhost:8080/"
        },
        "outputId": "a88f2f7b-2c84-4e2e-fa61-b7d5806097e7"
      },
      "source": [
        "# 2. Calculate column means, ignoring NaNs\n",
        "# Use np.nanmean to compute the mean of each column, ignoring NaN values\n",
        "column_means = np.nanmean(data_with_nan, axis=0)\n",
        "\n",
        "print(\"\\nColumn means (ignoring NaNs):\")\n",
        "print(column_means)"
      ],
      "id": "e251dc01",
      "execution_count": 59,
      "outputs": [
        {
          "output_type": "stream",
          "name": "stdout",
          "text": [
            "\n",
            "Column means (ignoring NaNs):\n",
            "[ 7.          8.66666667 11.          9.33333333]\n"
          ]
        }
      ]
    },
    {
      "cell_type": "code",
      "metadata": {
        "id": "466efd05",
        "colab": {
          "base_uri": "https://localhost:8080/"
        },
        "outputId": "735c8c2e-a174-451f-f46e-dc694a0362e5"
      },
      "source": [
        "# 3. Replace NaNs with column means\n",
        "# Find where the NaNs are in the array\n",
        "nan_indices = np.isnan(data_with_nan)\n",
        "\n",
        "# Replace NaNs with the corresponding column means\n",
        "# We use boolean indexing to select the NaN values, and then use\n",
        "# the column_means array indexed by the column index of the NaN.\n",
        "# The column index for each NaN is given by np.where(nan_indices)[1]\n",
        "data_filled = data_with_nan.copy() # Create a copy to avoid modifying the original array\n",
        "data_filled[nan_indices] = column_means[np.where(nan_indices)[1]]\n",
        "\n",
        "print(\"\\nArray with NaNs replaced by column means:\")\n",
        "print(data_filled)"
      ],
      "id": "466efd05",
      "execution_count": 60,
      "outputs": [
        {
          "output_type": "stream",
          "name": "stdout",
          "text": [
            "\n",
            "Array with NaNs replaced by column means:\n",
            "[[ 1.          2.         11.          4.        ]\n",
            " [ 5.          8.66666667  7.          8.        ]\n",
            " [ 9.         10.         11.          9.33333333]\n",
            " [13.         14.         15.         16.        ]]\n"
          ]
        }
      ]
    },
    {
      "cell_type": "markdown",
      "metadata": {
        "id": "019e5347"
      },
      "source": [
        "4. **Verify the result**: The printed `data_filled` array shows that the NaN values have been replaced with the calculated column means.\n",
        "\n",
        "5. **Finish task**: The task of replacing NaNs with column means is complete."
      ],
      "id": "019e5347"
    },
    {
      "cell_type": "markdown",
      "id": "509e6104",
      "metadata": {
        "id": "509e6104"
      },
      "source": [
        "## <a name='project'></a>1️⃣6️⃣ Mini‑Project: Fitness Data Analysis"
      ]
    },
    {
      "cell_type": "markdown",
      "id": "d867d3a6",
      "metadata": {
        "id": "d867d3a6"
      },
      "source": [
        "Load `fitness.txt` (tab‑separated) then follow prompts."
      ]
    },
    {
      "cell_type": "code",
      "execution_count": 62,
      "id": "593e50db",
      "metadata": {
        "id": "593e50db",
        "colab": {
          "base_uri": "https://localhost:8080/"
        },
        "outputId": "c61efc0d-c9b4-480d-e8b1-06b754994e10"
      },
      "outputs": [
        {
          "output_type": "stream",
          "name": "stdout",
          "text": [
            "columns: ('date', 'step_count', 'mood', 'calories_burned', 'hours_of_sleep', 'bool_of_active', 'weight_kg') rows: 96\n"
          ]
        }
      ],
      "source": [
        "fitness = np.genfromtxt('fitness.txt', delimiter='\\t', dtype=None, encoding=None, names=True)\n",
        "print('columns:', fitness.dtype.names, 'rows:', len(fitness))\n"
      ]
    },
    {
      "cell_type": "code",
      "execution_count": null,
      "id": "32e514d2",
      "metadata": {
        "id": "32e514d2"
      },
      "outputs": [],
      "source": [
        "# 🖊️ TODO: Monthly step count, sleep vs mood correlation, weekly summary, etc.\n"
      ]
    },
    {
      "cell_type": "code",
      "metadata": {
        "colab": {
          "base_uri": "https://localhost:8080/"
        },
        "id": "0UKk4TxUaIqK",
        "outputId": "c1781f99-62c0-4277-e0cf-87824fbbd997"
      },
      "source": [
        "import datetime\n",
        "\n",
        "# 1. Ensure the 'date' column is datetime64\n",
        "# Convert the string dates to datetime64 using datetime.strptime and specifying the format\n",
        "converted_dates = []\n",
        "# Assuming the format is 'MM-DD-YYYY' based on the previous error\n",
        "date_format = '%m-%d-%Y'\n",
        "for d_str in fitness['date']:\n",
        "    try:\n",
        "        dt_obj = datetime.datetime.strptime(d_str, date_format)\n",
        "        converted_dates.append(np.datetime64(dt_obj))\n",
        "    except ValueError:\n",
        "        # If 'MM-DD-YYYY' fails, try 'DD-MM-YYYY'\n",
        "        date_format = '%d-%m-%Y'\n",
        "        dt_obj = datetime.datetime.strptime(d_str, date_format)\n",
        "        converted_dates.append(np.datetime64(dt_obj))\n",
        "\n",
        "\n",
        "fitness['date'] = np.array(converted_dates, dtype='datetime64[D]')\n",
        "\n",
        "# 2. Extract the month and 3. Group by month\n",
        "# Create a new array with month and year for grouping\n",
        "months = fitness['date'].astype('datetime64[M]')\n",
        "\n",
        "# Use np.unique to get unique months and their indices\n",
        "unique_months, month_indices = np.unique(months, return_inverse=True)\n",
        "\n",
        "# 4. Calculate the sum of 'step_count' for each month\n",
        "monthly_step_count = np.bincount(month_indices, weights=fitness['step_count'])\n",
        "\n",
        "# 5. Print the monthly step count analysis results\n",
        "print(\"Monthly Step Count:\")\n",
        "for i, month in enumerate(unique_months):\n",
        "    print(f\"{month.astype('datetime64[M]').item().strftime('%Y-%m')}: {monthly_step_count[i]:.0f}\")"
      ],
      "id": "0UKk4TxUaIqK",
      "execution_count": 66,
      "outputs": [
        {
          "output_type": "stream",
          "name": "stdout",
          "text": [
            "Monthly Step Count:\n",
            "2017-06: 5464\n",
            "2017-07: 6041\n",
            "2017-08: 25\n",
            "2017-09: 5461\n",
            "2017-10: 53175\n",
            "2017-11: 107616\n",
            "2017-12: 93905\n",
            "2018-01: 10163\n"
          ]
        }
      ]
    },
    {
      "cell_type": "code",
      "metadata": {
        "colab": {
          "base_uri": "https://localhost:8080/"
        },
        "id": "5ed71391",
        "outputId": "07668363-9e0b-48d1-8a8e-c504f8a86e6c"
      },
      "source": [
        "# 1. Extract the 'hours_of_sleep' and 'mood' columns\n",
        "hours_of_sleep = fitness['hours_of_sleep']\n",
        "mood = fitness['mood']\n",
        "\n",
        "# 2. Calculate the Pearson correlation coefficient\n",
        "# np.corrcoef returns a 2x2 matrix, the off-diagonal elements are the correlation coefficients\n",
        "correlation_matrix = np.corrcoef(hours_of_sleep, mood)\n",
        "correlation_coefficient = correlation_matrix[0, 1]\n",
        "\n",
        "# 3. Print the calculated correlation coefficient\n",
        "print(f\"Correlation coefficient between hours of sleep and mood: {correlation_coefficient:.4f}\")"
      ],
      "id": "5ed71391",
      "execution_count": 67,
      "outputs": [
        {
          "output_type": "stream",
          "name": "stdout",
          "text": [
            "Correlation coefficient between hours of sleep and mood: 0.2104\n"
          ]
        }
      ]
    },
    {
      "cell_type": "code",
      "metadata": {
        "colab": {
          "base_uri": "https://localhost:8080/"
        },
        "id": "5de4d80e",
        "outputId": "9ded47f2-d6e3-4bbc-9b1d-32d05f9cd577"
      },
      "source": [
        "# 1. Extract the required columns\n",
        "dates = fitness['date']\n",
        "step_counts = fitness['step_count']\n",
        "calories_burned = fitness['calories_burned']\n",
        "hours_of_sleep = fitness['hours_of_sleep']\n",
        "\n",
        "# 2. Convert the 'date' column to datetime64[W] to group data by week\n",
        "weekly_dates = dates.astype('datetime64[W]')\n",
        "\n",
        "# 3. Use np.unique with return_inverse=True on the weekly dates\n",
        "unique_weeks, week_indices = np.unique(weekly_dates, return_inverse=True)\n",
        "\n",
        "# 4. Calculate the sum of 'step_count' and 'calories_burned' for each week\n",
        "weekly_step_count = np.bincount(week_indices, weights=step_counts)\n",
        "weekly_calories_burned = np.bincount(week_indices, weights=calories_burned)\n",
        "\n",
        "# 5. Calculate the average of 'hours_of_sleep' for each week\n",
        "weekly_sleep_sum = np.bincount(week_indices, weights=hours_of_sleep)\n",
        "weekly_counts = np.bincount(week_indices) # Count of entries per week\n",
        "weekly_sleep_avg = weekly_sleep_sum / weekly_counts\n",
        "\n",
        "# 6. Iterate through the unique weeks and print the weekly summary\n",
        "print(\"Weekly Fitness Summary:\")\n",
        "for i, week_start_date in enumerate(unique_weeks):\n",
        "    # Format the week start date for readability (e.g., YYYY-MM-DD)\n",
        "    formatted_date = week_start_date.astype(datetime.datetime).strftime('%Y-%m-%d')\n",
        "    print(f\"Week starting {formatted_date}:\")\n",
        "    print(f\"  Total Steps: {weekly_step_count[i]:.0f}\")\n",
        "    print(f\"  Total Calories Burned: {weekly_calories_burned[i]:.0f}\")\n",
        "    print(f\"  Average Hours of Sleep: {weekly_sleep_avg[i]:.2f}\\n\")\n"
      ],
      "id": "5de4d80e",
      "execution_count": 68,
      "outputs": [
        {
          "output_type": "stream",
          "name": "stdout",
          "text": [
            "Weekly Fitness Summary:\n",
            "Week starting 2017-06-08:\n",
            "  Total Steps: 5464\n",
            "  Total Calories Burned: 181\n",
            "  Average Hours of Sleep: 5.00\n",
            "\n",
            "Week starting 2017-07-06:\n",
            "  Total Steps: 6041\n",
            "  Total Calories Burned: 197\n",
            "  Average Hours of Sleep: 8.00\n",
            "\n",
            "Week starting 2017-08-10:\n",
            "  Total Steps: 25\n",
            "  Total Calories Burned: 0\n",
            "  Average Hours of Sleep: 5.00\n",
            "\n",
            "Week starting 2017-09-07:\n",
            "  Total Steps: 5461\n",
            "  Total Calories Burned: 174\n",
            "  Average Hours of Sleep: 4.00\n",
            "\n",
            "Week starting 2017-10-05:\n",
            "  Total Steps: 6915\n",
            "  Total Calories Burned: 223\n",
            "  Average Hours of Sleep: 5.00\n",
            "\n",
            "Week starting 2017-10-12:\n",
            "  Total Steps: 15116\n",
            "  Total Calories Burned: 482\n",
            "  Average Hours of Sleep: 6.17\n",
            "\n",
            "Week starting 2017-10-19:\n",
            "  Total Steps: 19524\n",
            "  Total Calories Burned: 621\n",
            "  Average Hours of Sleep: 5.71\n",
            "\n",
            "Week starting 2017-10-26:\n",
            "  Total Steps: 16055\n",
            "  Total Calories Burned: 517\n",
            "  Average Hours of Sleep: 6.14\n",
            "\n",
            "Week starting 2017-11-02:\n",
            "  Total Steps: 24977\n",
            "  Total Calories Burned: 811\n",
            "  Average Hours of Sleep: 3.86\n",
            "\n",
            "Week starting 2017-11-09:\n",
            "  Total Steps: 32223\n",
            "  Total Calories Burned: 1056\n",
            "  Average Hours of Sleep: 5.88\n",
            "\n",
            "Week starting 2017-11-16:\n",
            "  Total Steps: 20375\n",
            "  Total Calories Burned: 668\n",
            "  Average Hours of Sleep: 5.43\n",
            "\n",
            "Week starting 2017-11-23:\n",
            "  Total Steps: 21998\n",
            "  Total Calories Burned: 721\n",
            "  Average Hours of Sleep: 6.14\n",
            "\n",
            "Week starting 2017-11-30:\n",
            "  Total Steps: 20393\n",
            "  Total Calories Burned: 654\n",
            "  Average Hours of Sleep: 7.00\n",
            "\n",
            "Week starting 2017-12-07:\n",
            "  Total Steps: 26834\n",
            "  Total Calories Burned: 860\n",
            "  Average Hours of Sleep: 4.38\n",
            "\n",
            "Week starting 2017-12-14:\n",
            "  Total Steps: 22428\n",
            "  Total Calories Burned: 729\n",
            "  Average Hours of Sleep: 4.43\n",
            "\n",
            "Week starting 2017-12-21:\n",
            "  Total Steps: 19203\n",
            "  Total Calories Burned: 628\n",
            "  Average Hours of Sleep: 4.43\n",
            "\n",
            "Week starting 2017-12-28:\n",
            "  Total Steps: 13000\n",
            "  Total Calories Burned: 422\n",
            "  Average Hours of Sleep: 3.57\n",
            "\n",
            "Week starting 2018-01-04:\n",
            "  Total Steps: 5818\n",
            "  Total Calories Burned: 27\n",
            "  Average Hours of Sleep: 4.67\n",
            "\n"
          ]
        }
      ]
    },
    {
      "cell_type": "markdown",
      "id": "e7c0e1dc",
      "metadata": {
        "id": "e7c0e1dc"
      },
      "source": [
        "## <a name='conclusion'></a>1️⃣7️⃣ Conclusion & Further Practice\n",
        "Congrats on covering **all core NumPy topics** from your five lecture notebooks!\n",
        "\n",
        "*Keep experimenting, read the official docs, and try converting your NumPy pipelines into Pandas or JAX for more fun.*"
      ]
    }
  ],
  "metadata": {
    "colab": {
      "provenance": [],
      "include_colab_link": true
    },
    "language_info": {
      "name": "python"
    },
    "kernelspec": {
      "name": "python3",
      "display_name": "Python 3"
    }
  },
  "nbformat": 4,
  "nbformat_minor": 5
}